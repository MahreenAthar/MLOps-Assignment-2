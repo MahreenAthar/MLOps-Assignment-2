{
  "nbformat": 4,
  "nbformat_minor": 0,
  "metadata": {
    "colab": {
      "provenance": [],
      "authorship_tag": "ABX9TyM962dIqmR2nBpNVrahsIOV",
      "include_colab_link": true
    },
    "kernelspec": {
      "name": "python3",
      "display_name": "Python 3"
    },
    "language_info": {
      "name": "python"
    }
  },
  "cells": [
    {
      "cell_type": "markdown",
      "metadata": {
        "id": "view-in-github",
        "colab_type": "text"
      },
      "source": [
        "<a href=\"https://colab.research.google.com/github/MahreenAthar/MLOps-Assignment-2/blob/BranchMahreen/Model_StockExchange.ipynb\" target=\"_parent\"><img src=\"https://colab.research.google.com/assets/colab-badge.svg\" alt=\"Open In Colab\"/></a>"
      ]
    },
    {
      "cell_type": "markdown",
      "source": [
        "# Importing Libraries"
      ],
      "metadata": {
        "id": "5LsfViuTmlhB"
      }
    },
    {
      "cell_type": "code",
      "execution_count": 2,
      "metadata": {
        "id": "aKd7tbrbqDQW"
      },
      "outputs": [],
      "source": [
        "import pandas as pd\n",
        "import numpy as np\n",
        "import datetime\n",
        "import os\n",
        "import joblib\n",
        "from flask import Flask, request, jsonify, render_template\n",
        "from sklearn.linear_model import LinearRegression\n",
        "from sklearn.metrics import mean_absolute_error, mean_squared_error, r2_score\n",
        "from sklearn.preprocessing import PolynomialFeatures\n",
        "import yfinance as yf"
      ]
    },
    {
      "cell_type": "code",
      "source": [
        "app = Flask(__name__, template_folder='/app')"
      ],
      "metadata": {
        "id": "u0MzUh7Hmo_c"
      },
      "execution_count": 3,
      "outputs": []
    },
    {
      "cell_type": "markdown",
      "source": [
        "# Loading the dataset"
      ],
      "metadata": {
        "id": "ESAeObvVnXZp"
      }
    },
    {
      "cell_type": "code",
      "source": [
        "ticker = yf.Ticker(\"ZTL\")\n",
        "data = ticker.history(start=datetime.date(2020, 1, 1), end=datetime.date.today())\n",
        "data.reset_index(inplace=True)"
      ],
      "metadata": {
        "colab": {
          "base_uri": "https://localhost:8080/"
        },
        "id": "EEMZNgYynUKG",
        "outputId": "1420c77d-345e-448e-d9a7-e54aff7bf815"
      },
      "execution_count": 4,
      "outputs": [
        {
          "output_type": "stream",
          "name": "stdout",
          "text": [
            "ZTL: No data found for this date range, symbol may be delisted\n"
          ]
        }
      ]
    },
    {
      "cell_type": "markdown",
      "source": [
        "# Splitting Data\n",
        "80% training, 20% testing"
      ],
      "metadata": {
        "id": "v-zWGbfjt3tD"
      }
    },
    {
      "cell_type": "code",
      "source": [
        "train_size = int(len(data) * 0.8)\n",
        "train_data = data.iloc[:train_size]\n",
        "test_data = data.iloc[train_size:]"
      ],
      "metadata": {
        "id": "g9l5iiXltMOi"
      },
      "execution_count": 5,
      "outputs": []
    },
    {
      "cell_type": "markdown",
      "source": [
        "# Define input features \n",
        "Open, High, Low, and Volume"
      ],
      "metadata": {
        "id": "Tws9CGrzuGav"
      }
    },
    {
      "cell_type": "code",
      "source": [
        "X_train = train_data[['Open', 'High', 'Low', 'Volume']]\n",
        "X_test = test_data[['Open', 'High', 'Low', 'Volume']]"
      ],
      "metadata": {
        "id": "islLoc5juBHO"
      },
      "execution_count": 6,
      "outputs": []
    },
    {
      "cell_type": "code",
      "source": [],
      "metadata": {
        "id": "vtXUTd3buL_7"
      },
      "execution_count": null,
      "outputs": []
    }
  ]
}